{
 "cells": [
  {
   "cell_type": "code",
   "execution_count": 1,
   "id": "4508e0a4",
   "metadata": {},
   "outputs": [
    {
     "name": "stdout",
     "output_type": "stream",
     "text": [
      "Note: you may need to restart the kernel to use updated packages.\n"
     ]
    }
   ],
   "source": [
    "%pip install --upgrade supabase==2.22.0 langchain-community==0.3.31 langchain-openai==0.3.35 --quiet"
   ]
  },
  {
   "cell_type": "code",
   "execution_count": 2,
   "id": "e931e237",
   "metadata": {},
   "outputs": [
    {
     "data": {
      "text/plain": [
       "True"
      ]
     },
     "execution_count": 2,
     "metadata": {},
     "output_type": "execute_result"
    }
   ],
   "source": [
    "import os\n",
    "\n",
    "from langchain_community.vectorstores import SupabaseVectorStore\n",
    "from supabase.client import Client, create_client\n",
    "from langchain.embeddings.openai import OpenAIEmbeddings\n",
    "from dotenv import load_dotenv\n",
    "\n",
    "load_dotenv()"
   ]
  },
  {
   "cell_type": "code",
   "execution_count": null,
   "id": "bdc7c5ed",
   "metadata": {},
   "outputs": [
    {
     "name": "stderr",
     "output_type": "stream",
     "text": [
      "C:\\Users\\leandro\\AppData\\Local\\Temp\\ipykernel_16400\\3362794367.py:5: LangChainDeprecationWarning: The class `OpenAIEmbeddings` was deprecated in LangChain 0.0.9 and will be removed in 1.0. An updated version of the class exists in the :class:`~langchain-openai package and should be used instead. To use it run `pip install -U :class:`~langchain-openai` and import as `from :class:`~langchain_openai import OpenAIEmbeddings``.\n",
      "  embeddings = OpenAIEmbeddings()\n"
     ]
    }
   ],
   "source": [
    "supabase_url = os.environ.get(\"SUPABASE_URL\")\n",
    "supabase_key = os.environ.get(\"SUPABASE_SERVICE_KEY\")\n",
    "supabase: Client = create_client(supabase_url, supabase_key)\n",
    "\n",
    "embeddings = OpenAIEmbeddings(model='text-embedding-3-small')"
   ]
  },
  {
   "cell_type": "code",
   "execution_count": 4,
   "id": "96a39813",
   "metadata": {},
   "outputs": [],
   "source": [
    "import os\n",
    "import json\n",
    "from langchain_core.documents import Document\n",
    "\n",
    "SOURCE_DIRECTORY = \"./books\"\n",
    "NUM_BOOKS = 17\n",
    "\n",
    "def load_docs_from_json():\n",
    "    langchain_documents = []\n",
    "    \n",
    "    for i in range(1, NUM_BOOKS + 1):\n",
    "        book_id = f\"{i:03d}\"\n",
    "        file_path = os.path.join(SOURCE_DIRECTORY, f\"{book_id}.json\")\n",
    "\n",
    "        try:\n",
    "            with open(file_path, 'r', encoding='utf-8') as f:\n",
    "                book_data = json.load(f)\n",
    "        except FileNotFoundError:\n",
    "            print(f\"Aviso: Arquivo {file_path} não encontrado. Pulando.\")\n",
    "            continue\n",
    "\n",
    "        for page, paragraphs in book_data.items():\n",
    "            for paragraph_text in paragraphs:\n",
    "                if paragraph_text and len(paragraph_text.strip()) > 10:\n",
    "                    metadata = {\n",
    "                        \"source\": os.path.basename(file_path),\n",
    "                        \"book_id\": book_id,\n",
    "                        \"page\": int(page)\n",
    "                    }\n",
    "                    doc = Document(\n",
    "                        page_content=paragraph_text.strip(),\n",
    "                        metadata=metadata\n",
    "                    )\n",
    "                    langchain_documents.append(doc)\n",
    "    \n",
    "    return langchain_documents\n",
    "\n",
    "documents = load_docs_from_json()"
   ]
  },
  {
   "cell_type": "code",
   "execution_count": null,
   "id": "01a50976",
   "metadata": {},
   "outputs": [],
   "source": [
    "vector_store = SupabaseVectorStore.from_documents(\n",
    "    documents,\n",
    "    embeddings,\n",
    "    client=supabase,\n",
    "    table_name=\"documents\",\n",
    "    query_name=\"match_documents\",\n",
    "    chunk_size=100,\n",
    ")"
   ]
  },
  {
   "cell_type": "code",
   "execution_count": 11,
   "id": "d77be0ca",
   "metadata": {},
   "outputs": [
    {
     "name": "stdout",
     "output_type": "stream",
     "text": [
      "Score: 0.8666\n",
      "Content: É no princípio de execução de todo propósito debem que, com frequência, a falta de vontade se faz presente; mas, sabendo que a causa desse mal está na preguiçafeita hábito, enfrentá-la-emos com resolução, avaliandoem todo o seu volume os prejuízos que ela nos ocasionae sem alimentar, nem por mais um instante, nenhum dospensamentos negativos que promove.\n",
      "Metadata: {'page': 42, 'source': '004.json', 'book_id': '004'}\n",
      "-----\n",
      "Score: 0.8664\n",
      "Content: Deficiências e Propensões do Ser Humano A antideficiência que aconselhamos aplicar nos casosde falta de vontade é a decisão. Para que seja efetiva, teráde ser praticada conscientemente, com responsabilidade – como toda antideficiência exige –, sobrepondo-se comempenho à apatia até triunfar no forcejo psicológico. Oser deve demonstrar que é capaz de contrapor à abuliaque o domina a decisão de combatê-la. Conseguirá,assim, ter vontade para tudo.\n",
      "Metadata: {'page': 41, 'source': '004.json', 'book_id': '004'}\n",
      "-----\n",
      "Score: 0.8529\n",
      "Content: Vontade é a força psíquica que move as energias hu manas e põe em atividade as determinações da inteligên ciapara o bem, defesa e superação do indivíduo. A falta devon tade anula essas possibilidades e prostra o ser naindifere n ça e na inércia, faz sua inteligência fracassar e chega até a perverter sua sensibilidade, porque o expõe atodas as tentações e contingências que o ameaçam.\n",
      "Metadata: {'page': 38, 'source': '004.json', 'book_id': '004'}\n",
      "-----\n",
      "Score: 0.8487\n",
      "Content: As energias que movem a vontade são geradas pormeio do esforço e mínguam quando são tidas comodesnecessárias. A propensão ao fácil tira força da vontade,porque a mantém pouco menos que imóvel, impedindoque o homem, em consequência disso, forje determinaçõesque o conduzam a posições futuras mais vantajosas.\n",
      "Metadata: {'page': 186, 'source': '004.json', 'book_id': '004'}\n",
      "-----\n",
      "Score: 0.8476\n",
      "Content: Analisando-se o caso da indecisão, vê-se que muitas vezes ela procede de causas alheias à vontade do indivíduo. Este tem, por exemplo, a ideia de fazer algo, quer dizer, concebeu essa ideia; depois acaricia ou, melhor ainda, sente-se acariciado pela ilusão da ideia realizada; porém, eis então que, em vez de pôr mãos à obra, é tomado pelo temor de não saber concretizá-la na realidade e, ante a visão do fracasso, detém seus pensamentos e restringe sua vontade. Não obstante, a ideia está ali, em sua mente, acicatando-lhe o desejo até empurrá-lo à ação, a qual novamente é detida por outros pensamentos que lhe falam de sua incapacidade.\n",
      "Metadata: {'page': 225, 'source': '014.json', 'book_id': '014'}\n",
      "-----\n"
     ]
    }
   ],
   "source": [
    "import os\n",
    "from supabase.client import create_client\n",
    "from langchain_openai import OpenAIEmbeddings\n",
    "\n",
    "# Configurações do Supabase\n",
    "supabase_url = os.environ[\"SUPABASE_URL\"]\n",
    "supabase_key = os.environ[\"SUPABASE_SERVICE_KEY\"]\n",
    "supabase = create_client(supabase_url, supabase_key)\n",
    "\n",
    "# Inicializa embeddings\n",
    "embeddings = OpenAIEmbeddings()\n",
    "\n",
    "def similarity_search_with_score(query: str, k: int = 5):\n",
    "    # Gera o embedding do texto da query\n",
    "    query_embedding = embeddings.embed_query(query)\n",
    "\n",
    "    # Chama a função RPC 'match_documents' no Supabase, passando o embedding e o número de resultados\n",
    "    response = supabase.rpc(\n",
    "        \"match_documents\",\n",
    "        {\n",
    "            \"query_embedding\": query_embedding,\n",
    "            \"match_count\": k,\n",
    "            \"filter\": {}  # pode passar filtros JSON se quiser\n",
    "        }\n",
    "    ).execute()\n",
    "\n",
    "    results = response.data\n",
    "\n",
    "    # Cada item em results tem id, content, metadata e similarity\n",
    "    # Podemos montar uma lista de tuplas (Document, similarity)\n",
    "    from langchain_core.documents import Document\n",
    "\n",
    "    docs_with_scores = []\n",
    "    for item in results:\n",
    "        doc = Document(\n",
    "            page_content=item[\"content\"],\n",
    "            metadata=item[\"metadata\"]\n",
    "        )\n",
    "        score = item[\"similarity\"]\n",
    "        docs_with_scores.append((doc, score))\n",
    "\n",
    "    return docs_with_scores\n",
    "\n",
    "# Exemplo de uso\n",
    "query = \"me fale sobre a falta de vontade\"\n",
    "results = similarity_search_with_score(query, k=5)\n",
    "\n",
    "for doc, score in results:\n",
    "    print(f\"Score: {score:.4f}\")\n",
    "    print(f\"Content: {doc.page_content}\")\n",
    "    print(f\"Metadata: {doc.metadata}\")\n",
    "    print(\"-----\")\n"
   ]
  },
  {
   "cell_type": "code",
   "execution_count": null,
   "id": "3437c91d",
   "metadata": {},
   "outputs": [],
   "source": []
  }
 ],
 "metadata": {
  "kernelspec": {
   "display_name": "Python 3",
   "language": "python",
   "name": "python3"
  },
  "language_info": {
   "codemirror_mode": {
    "name": "ipython",
    "version": 3
   },
   "file_extension": ".py",
   "mimetype": "text/x-python",
   "name": "python",
   "nbconvert_exporter": "python",
   "pygments_lexer": "ipython3",
   "version": "3.12.0"
  }
 },
 "nbformat": 4,
 "nbformat_minor": 5
}
